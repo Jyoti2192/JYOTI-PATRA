{
 "cells": [
  {
   "cell_type": "markdown",
   "id": "9ad565a5-0386-4c6b-a404-c26874b98874",
   "metadata": {},
   "source": [
    "# Data Science Tools and Ecosystem"
   ]
  },
  {
   "cell_type": "markdown",
   "id": "b77c4b41-687f-4961-af08-5500d402ebca",
   "metadata": {},
   "source": [
    "In this notebook ,Data Science Tools And Ecosystem are summarized "
   ]
  },
  {
   "cell_type": "markdown",
   "id": "8c46bbef-1912-4d83-ae7d-07ed5bf3d234",
   "metadata": {},
   "source": [
    "Objectives:\n",
    "* List popular languages for Data Science\n",
    "* List popular libraries for Data Science\n",
    "* Create markdown cells\n",
    "* Add comments to code\n",
    "* add ordered and unordered lists to markdown cells"
   ]
  },
  {
   "cell_type": "markdown",
   "id": "dc7df0f3-8d1a-487b-8e7a-eed4cd3ba4b4",
   "metadata": {},
   "source": [
    "Some of the popular languages that Data Scientists use are:\n",
    "ordered list\n",
    "1.python\n",
    "2.R\n",
    "3.scala\n",
    "4.SQL\n",
    "5.java\n",
    "6.C++\n",
    "7.julia"
   ]
  },
  {
   "cell_type": "markdown",
   "id": "202d5c6d-ad95-4ec6-81c7-9bccad0cf99a",
   "metadata": {},
   "source": [
    "Some of the commonly used libraries used by Data Scientists include:\n",
    "ordered list:-\n",
    "1.pandas\n",
    "2.Numpy\n",
    "3.Matplotlib\n",
    "4.Scikit-learn\n",
    "5.Keras\n",
    "6.TensorFlow\n",
    "7.PyTorch\n",
    "8.Apache Spark\n",
    "9.ggplot2\n",
    "\n"
   ]
  },
  {
   "cell_type": "markdown",
   "id": "88c7b95a-c4d3-4752-bc30-df53c60f6f9a",
   "metadata": {},
   "source": [
    "|Data Science Tools|\n",
    " |-----------------|\n",
    "|Anaconda|\n",
    "|Jupyter Notebooks|\n",
    "|R Studio|\n",
    "|Apache Hadoop|\n",
    "|Spyder|"
   ]
  },
  {
   "cell_type": "markdown",
   "id": "76588311-1965-40ed-bfb0-4f869a9238c2",
   "metadata": {},
   "source": [
    "### Below are a few examples of evaluating arithmetic expressions in Python"
   ]
  },
  {
   "cell_type": "markdown",
   "id": "b7401526-2a04-47c8-8f62-766dbbfa6bb9",
   "metadata": {},
   "source": [
    "This a simple arithmetic expression to mutiply then add integers."
   ]
  },
  {
   "cell_type": "code",
   "execution_count": 3,
   "id": "7b9578ea-31ab-43f8-8289-a3642a2902e1",
   "metadata": {},
   "outputs": [
    {
     "data": {
      "text/plain": [
       "17"
      ]
     },
     "execution_count": 3,
     "metadata": {},
     "output_type": "execute_result"
    }
   ],
   "source": [
    "(3*4)+5"
   ]
  },
  {
   "cell_type": "code",
   "execution_count": 4,
   "id": "f40975d6-0f5d-42da-8c02-3eae2948e29f",
   "metadata": {},
   "outputs": [
    {
     "data": {
      "text/plain": [
       "3.3333333333333335"
      ]
     },
     "execution_count": 4,
     "metadata": {},
     "output_type": "execute_result"
    }
   ],
   "source": [
    "200/60"
   ]
  },
  {
   "cell_type": "markdown",
   "id": "534988f5-18ee-46dc-b3a2-87ba9cdfc7d1",
   "metadata": {},
   "source": [
    "This will convert 200 minutes to hours by diving by 60."
   ]
  },
  {
   "cell_type": "markdown",
   "id": "77364d45-359a-4646-b8bc-d89513938d1a",
   "metadata": {},
   "source": [
    "## Author\n",
    "Jyoti Patra"
   ]
  },
  {
   "cell_type": "code",
   "execution_count": null,
   "id": "6b1bde41-8182-43c5-9f13-ace9f023dee1",
   "metadata": {},
   "outputs": [],
   "source": []
  }
 ],
 "metadata": {
  "kernelspec": {
   "display_name": "Python 3 (ipykernel)",
   "language": "python",
   "name": "python3"
  },
  "language_info": {
   "codemirror_mode": {
    "name": "ipython",
    "version": 3
   },
   "file_extension": ".py",
   "mimetype": "text/x-python",
   "name": "python",
   "nbconvert_exporter": "python",
   "pygments_lexer": "ipython3",
   "version": "3.11.9"
  }
 },
 "nbformat": 4,
 "nbformat_minor": 5
}
